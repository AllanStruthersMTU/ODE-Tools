{
 "cells": [
  {
   "cell_type": "markdown",
   "id": "1d53b136-2e8d-4ca8-af87-afaf3801d71d",
   "metadata": {},
   "source": [
    "NicK:\n",
    "Here is a cheezy example of what I mean by pre-assigning and inserting.  You can take a lot more steps without maling it register "
   ]
  },
  {
   "cell_type": "code",
   "execution_count": 24,
   "id": "6a26450a-ba55-4764-88ec-72e015bdf91d",
   "metadata": {},
   "outputs": [
    {
     "data": {
      "text/plain": [
       "DoEulerSteps! (generic function with 1 method)"
      ]
     },
     "execution_count": 24,
     "metadata": {},
     "output_type": "execute_result"
    }
   ],
   "source": [
    "function EulerStep!(f,i,h,Y,T)\n",
    "    T[i] = T[i-1] + h;\n",
    "    Y[i,:] = Y[i-1,:] + h*f(Y[i-1,:])\n",
    "end\n",
    "\n",
    "function DoEulerSteps!(f,MaxSteps,h,Y,T)\n",
    "    for i in 2:MaxSteps\n",
    "    EulerStep!(f,i,h,Y,T) \n",
    "    end\n",
    "end"
   ]
  },
  {
   "cell_type": "code",
   "execution_count": 32,
   "id": "fa6481cc-a844-4c53-9b9c-2d2f1ec62691",
   "metadata": {},
   "outputs": [
    {
     "name": "stdout",
     "output_type": "stream",
     "text": [
      "  0.000005 seconds\n"
     ]
    }
   ],
   "source": [
    "function f(y) \n",
    "    return [-0.01 2.0; -2.0 -0.01]*y\n",
    "end\n",
    "\n",
    "dim=2;\n",
    "MaxSteps = 1000;\n",
    "Y = Array{Float64}(undef, MaxSteps,dim)\n",
    "T = Array{Float64}(undef, MaxSteps)\n",
    "(t0,y0) =(0.1, [2.1;1.6]); T[1]=t0; Y[1,:]=y0;\n",
    "h=0.001;\n",
    "@time DoEulerSteps!(f,MaxSteps,h,Y,T)"
   ]
  }
 ],
 "metadata": {
  "kernelspec": {
   "display_name": "Julia 1.6.3",
   "language": "julia",
   "name": "julia-1.6"
  },
  "language_info": {
   "file_extension": ".jl",
   "mimetype": "application/julia",
   "name": "julia",
   "version": "1.6.3"
  }
 },
 "nbformat": 4,
 "nbformat_minor": 5
}
