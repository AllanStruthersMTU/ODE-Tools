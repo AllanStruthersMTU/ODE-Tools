{
 "cells": [
  {
   "cell_type": "markdown",
   "metadata": {},
   "source": [
    "# Tutorial 5: Hyper-elasticity"
   ]
  },
  {
   "cell_type": "markdown",
   "metadata": {},
   "source": [
    "    This tutorial is under construction, but the code below is already functional.\n",
    "\n",
    "\n",
    "## Problem statement"
   ]
  },
  {
   "cell_type": "code",
   "execution_count": null,
   "metadata": {},
   "outputs": [],
   "source": [
    "using Gridap\n",
    "using LineSearches: BackTracking"
   ]
  },
  {
   "cell_type": "markdown",
   "metadata": {},
   "source": [
    "Material parameters"
   ]
  },
  {
   "cell_type": "code",
   "execution_count": null,
   "metadata": {},
   "outputs": [],
   "source": [
    "const λ = 100.0\n",
    "const μ = 1.0"
   ]
  },
  {
   "cell_type": "markdown",
   "metadata": {},
   "source": [
    "Deformation Gradient"
   ]
  },
  {
   "cell_type": "code",
   "execution_count": null,
   "metadata": {},
   "outputs": [],
   "source": [
    "F(∇u) = one(∇u) + ∇u'\n",
    "\n",
    "J(F) = sqrt(det(C(F)))\n",
    "\n",
    "#Green strain\n",
    "\n",
    "#E(F) = 0.5*( F'*F - one(F) )\n",
    "\n",
    "dE(∇du,∇u) = 0.5*( ∇du⋅F(∇u) + (∇du⋅F(∇u))' )"
   ]
  },
  {
   "cell_type": "markdown",
   "metadata": {},
   "source": [
    "Right Cauchy-green deformation tensor"
   ]
  },
  {
   "cell_type": "code",
   "execution_count": null,
   "metadata": {},
   "outputs": [],
   "source": [
    "C(F) = (F')⋅F"
   ]
  },
  {
   "cell_type": "markdown",
   "metadata": {},
   "source": [
    "Constitutive law (Neo hookean)"
   ]
  },
  {
   "cell_type": "code",
   "execution_count": null,
   "metadata": {},
   "outputs": [],
   "source": [
    "function S(∇u)\n",
    "  Cinv = inv(C(F(∇u)))\n",
    "  μ*(one(∇u)-Cinv) + λ*log(J(F(∇u)))*Cinv\n",
    "end\n",
    "\n",
    "function dS(∇du,∇u)\n",
    "  Cinv = inv(C(F(∇u)))\n",
    "  _dE = dE(∇du,∇u)\n",
    "  λ*(Cinv⊙_dE)*Cinv + 2*(μ-λ*log(J(F(∇u))))*Cinv⋅_dE⋅(Cinv')\n",
    "end"
   ]
  },
  {
   "cell_type": "markdown",
   "metadata": {},
   "source": [
    "Cauchy stress tensor"
   ]
  },
  {
   "cell_type": "code",
   "execution_count": null,
   "metadata": {},
   "outputs": [],
   "source": [
    "σ(∇u) = (1.0/J(F(∇u)))*F(∇u)⋅S(∇u)⋅(F(∇u))'"
   ]
  },
  {
   "cell_type": "markdown",
   "metadata": {},
   "source": [
    "Model"
   ]
  },
  {
   "cell_type": "code",
   "execution_count": null,
   "metadata": {},
   "outputs": [],
   "source": [
    "domain = (0,1,0,1)\n",
    "partition = (20,20)\n",
    "model = CartesianDiscreteModel(domain,partition)"
   ]
  },
  {
   "cell_type": "markdown",
   "metadata": {},
   "source": [
    "Define new boundaries"
   ]
  },
  {
   "cell_type": "code",
   "execution_count": null,
   "metadata": {},
   "outputs": [],
   "source": [
    "labels = get_face_labeling(model)\n",
    "add_tag_from_tags!(labels,\"diri_0\",[1,3,7])\n",
    "add_tag_from_tags!(labels,\"diri_1\",[2,4,8])"
   ]
  },
  {
   "cell_type": "markdown",
   "metadata": {},
   "source": [
    "Setup integration"
   ]
  },
  {
   "cell_type": "code",
   "execution_count": null,
   "metadata": {},
   "outputs": [],
   "source": [
    "degree = 2\n",
    "Ω = Triangulation(model)\n",
    "dΩ = Measure(Ω,degree)"
   ]
  },
  {
   "cell_type": "markdown",
   "metadata": {},
   "source": [
    "Weak form"
   ]
  },
  {
   "cell_type": "code",
   "execution_count": null,
   "metadata": {},
   "outputs": [],
   "source": [
    "res(u,v) = ∫( (dE∘(∇(v),∇(u))) ⊙ (S∘∇(u)) )*dΩ\n",
    "\n",
    "jac_mat(u,du,v) =  ∫( (dE∘(∇(v),∇(u))) ⊙ (dS∘(∇(du),∇(u))) )*dΩ\n",
    "\n",
    "jac_geo(u,du,v) = ∫( ∇(v) ⊙ ( (S∘∇(u))⋅∇(du) ) )*dΩ\n",
    "\n",
    "jac(u,du,v) = jac_mat(u,v,du) + jac_geo(u,v,du)"
   ]
  },
  {
   "cell_type": "markdown",
   "metadata": {},
   "source": [
    "Construct the FEspace"
   ]
  },
  {
   "cell_type": "code",
   "execution_count": null,
   "metadata": {},
   "outputs": [],
   "source": [
    "reffe = ReferenceFE(lagrangian,VectorValue{2,Float64},1)\n",
    "V = TestFESpace(model,reffe,conformity=:H1,dirichlet_tags = [\"diri_0\", \"diri_1\"])"
   ]
  },
  {
   "cell_type": "markdown",
   "metadata": {},
   "source": [
    "Setup non-linear solver"
   ]
  },
  {
   "cell_type": "code",
   "execution_count": null,
   "metadata": {},
   "outputs": [],
   "source": [
    "nls = NLSolver(\n",
    "  show_trace=true,\n",
    "  method=:newton,\n",
    "  linesearch=BackTracking())\n",
    "\n",
    "solver = FESolver(nls)\n",
    "\n",
    "function run(x0,disp_x,step,nsteps,cache)\n",
    "\n",
    "  g0 = VectorValue(0.0,0.0)\n",
    "  g1 = VectorValue(disp_x,0.0)\n",
    "  U = TrialFESpace(V,[g0,g1])\n",
    "\n",
    "  #FE problem\n",
    "  op = FEOperator(res,jac,U,V)\n",
    "\n",
    "  println(\"\\n+++ Solving for disp_x $disp_x in step $step of $nsteps +++\\n\")\n",
    "\n",
    "  uh = FEFunction(U,x0)\n",
    "\n",
    "  uh, cache = solve!(uh,solver,op,cache)\n",
    "\n",
    "  writevtk(Ω,\"results_$(lpad(step,3,'0'))\",cellfields=[\"uh\"=>uh,\"sigma\"=>σ∘∇(uh)])\n",
    "\n",
    "  return get_free_dof_values(uh), cache\n",
    "\n",
    "end\n",
    "\n",
    "function runs()\n",
    "\n",
    " disp_max = 0.75\n",
    " disp_inc = 0.02\n",
    " nsteps = ceil(Int,abs(disp_max)/disp_inc)\n",
    "\n",
    " x0 = zeros(Float64,num_free_dofs(V))\n",
    "\n",
    " cache = nothing\n",
    " for step in 1:nsteps\n",
    "   disp_x = step * disp_max / nsteps\n",
    "   x0, cache = run(x0,disp_x,step,nsteps,cache)\n",
    " end\n",
    "\n",
    "end\n",
    "\n",
    "#Do the work!\n",
    "runs()"
   ]
  },
  {
   "cell_type": "markdown",
   "metadata": {},
   "source": [
    "Picture of the last load step\n",
    "![](../assets/hyperelasticity/neo_hook_2d.png)\n",
    "\n",
    "##  Extension to 3D\n",
    "\n",
    "Extending this tutorial to the 3D case is straightforward. It is left as an exercise.\n",
    "\n",
    "![](../assets/hyperelasticity/neo_hook_3d.png)"
   ]
  },
  {
   "cell_type": "markdown",
   "metadata": {},
   "source": [
    "---\n",
    "\n",
    "*This notebook was generated using [Literate.jl](https://github.com/fredrikekre/Literate.jl).*"
   ]
  }
 ],
 "metadata": {
  "kernelspec": {
   "display_name": "Julia 1.6.3",
   "language": "julia",
   "name": "julia-1.6"
  },
  "language_info": {
   "file_extension": ".jl",
   "mimetype": "application/julia",
   "name": "julia",
   "version": "1.6.3"
  }
 },
 "nbformat": 4,
 "nbformat_minor": 4
}
