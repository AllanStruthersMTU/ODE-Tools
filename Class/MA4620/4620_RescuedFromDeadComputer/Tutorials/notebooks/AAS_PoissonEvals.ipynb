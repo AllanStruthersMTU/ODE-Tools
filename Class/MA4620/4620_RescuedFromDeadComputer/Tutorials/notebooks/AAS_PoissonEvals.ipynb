{
 "cells": [
  {
   "cell_type": "markdown",
   "metadata": {},
   "source": [
    "# Tutorial AAS1: Poisson Equation Matrices and Eigenvalues"
   ]
  },
  {
   "cell_type": "markdown",
   "metadata": {},
   "source": [
    "In this tutorial, we will learn\n",
    "\n",
    "   -  How to extract matrices from Julia\n",
    "   -  How to import and export matrices from Julia in a standard format\n",
    "   -  How to compute and interpret eigenvalues of the Laplacian\n",
    "   -  How to visualize results\n",
    "\n",
    "\n",
    "## Problem statement\n",
    "\n",
    "Our target is to compute the eigenvalues \n",
    "$$\n",
    "-\\Delta u = \\lambda u\n",
    "$$\n",
    "of the laplacian operator on a simple 2D domain $\\Omega$ with homogeneous dirichlet condition on $\\partial \\Omega$.    "
   ]
  },
  {
   "cell_type": "markdown",
   "metadata": {},
   "source": [
    "## Discrete model to Matrices\n",
    "\n",
    "We need a simple domain and mesh.  The following should do for now!  This is all very similar to the first and second tutorials. "
   ]
  },
  {
   "cell_type": "code",
   "execution_count": 4,
   "metadata": {},
   "outputs": [
    {
     "data": {
      "text/plain": [
       "529×529 SparseArrays.SparseMatrixCSC{Float64, Int64} with 4489 stored entries:\n",
       "⡻⣮⡳⣄⠀⠀⠀⠀⠀⠀⠀⠀⠀⠀⠀⠀⠀⠀⠀⠀⠀⠀⠀⠀⠀⠀⠀⠀⠀⠀⠀⠀⠀⠀⠀⠀⠀⠀⠀⠀\n",
       "⠙⢮⡻⣮⡳⣄⠀⠀⠀⠀⠀⠀⠀⠀⠀⠀⠀⠀⠀⠀⠀⠀⠀⠀⠀⠀⠀⠀⠀⠀⠀⠀⠀⠀⠀⠀⠀⠀⠀⠀\n",
       "⠀⠀⠙⢮⡻⣮⡳⣄⠀⠀⠀⠀⠀⠀⠀⠀⠀⠀⠀⠀⠀⠀⠀⠀⠀⠀⠀⠀⠀⠀⠀⠀⠀⠀⠀⠀⠀⠀⠀⠀\n",
       "⠀⠀⠀⠀⠙⢮⡻⣮⡳⣄⠀⠀⠀⠀⠀⠀⠀⠀⠀⠀⠀⠀⠀⠀⠀⠀⠀⠀⠀⠀⠀⠀⠀⠀⠀⠀⠀⠀⠀⠀\n",
       "⠀⠀⠀⠀⠀⠀⠙⢮⡻⣮⡳⣄⠀⠀⠀⠀⠀⠀⠀⠀⠀⠀⠀⠀⠀⠀⠀⠀⠀⠀⠀⠀⠀⠀⠀⠀⠀⠀⠀⠀\n",
       "⠀⠀⠀⠀⠀⠀⠀⠀⠙⢮⡱⣮⡳⣄⠀⠀⠀⠀⠀⠀⠀⠀⠀⠀⠀⠀⠀⠀⠀⠀⠀⠀⠀⠀⠀⠀⠀⠀⠀⠀\n",
       "⠀⠀⠀⠀⠀⠀⠀⠀⠀⠀⠙⢮⡻⣮⠳⣄⠀⠀⠀⠀⠀⠀⠀⠀⠀⠀⠀⠀⠀⠀⠀⠀⠀⠀⠀⠀⠀⠀⠀⠀\n",
       "⠀⠀⠀⠀⠀⠀⠀⠀⠀⠀⠀⠀⠙⢦⡻⣮⡳⣄⠀⠀⠀⠀⠀⠀⠀⠀⠀⠀⠀⠀⠀⠀⠀⠀⠀⠀⠀⠀⠀⠀\n",
       "⠀⠀⠀⠀⠀⠀⠀⠀⠀⠀⠀⠀⠀⠀⠙⢮⡻⣮⡳⣄⠀⠀⠀⠀⠀⠀⠀⠀⠀⠀⠀⠀⠀⠀⠀⠀⠀⠀⠀⠀\n",
       "⠀⠀⠀⠀⠀⠀⠀⠀⠀⠀⠀⠀⠀⠀⠀⠀⠙⢮⡻⣮⡳⣄⠀⠀⠀⠀⠀⠀⠀⠀⠀⠀⠀⠀⠀⠀⠀⠀⠀⠀\n",
       "⠀⠀⠀⠀⠀⠀⠀⠀⠀⠀⠀⠀⠀⠀⠀⠀⠀⠀⠙⢮⡻⣮⡳⣄⠀⠀⠀⠀⠀⠀⠀⠀⠀⠀⠀⠀⠀⠀⠀⠀\n",
       "⠀⠀⠀⠀⠀⠀⠀⠀⠀⠀⠀⠀⠀⠀⠀⠀⠀⠀⠀⠀⠙⢮⡻⣮⡳⣄⠀⠀⠀⠀⠀⠀⠀⠀⠀⠀⠀⠀⠀⠀\n",
       "⠀⠀⠀⠀⠀⠀⠀⠀⠀⠀⠀⠀⠀⠀⠀⠀⠀⠀⠀⠀⠀⠀⠙⢮⡻⣮⠳⣄⠀⠀⠀⠀⠀⠀⠀⠀⠀⠀⠀⠀\n",
       "⠀⠀⠀⠀⠀⠀⠀⠀⠀⠀⠀⠀⠀⠀⠀⠀⠀⠀⠀⠀⠀⠀⠀⠀⠙⢦⡻⣮⡳⣄⠀⠀⠀⠀⠀⠀⠀⠀⠀⠀\n",
       "⠀⠀⠀⠀⠀⠀⠀⠀⠀⠀⠀⠀⠀⠀⠀⠀⠀⠀⠀⠀⠀⠀⠀⠀⠀⠀⠙⢮⡻⢎⡳⣄⠀⠀⠀⠀⠀⠀⠀⠀\n",
       "⠀⠀⠀⠀⠀⠀⠀⠀⠀⠀⠀⠀⠀⠀⠀⠀⠀⠀⠀⠀⠀⠀⠀⠀⠀⠀⠀⠀⠙⢮⡻⣮⡳⣄⠀⠀⠀⠀⠀⠀\n",
       "⠀⠀⠀⠀⠀⠀⠀⠀⠀⠀⠀⠀⠀⠀⠀⠀⠀⠀⠀⠀⠀⠀⠀⠀⠀⠀⠀⠀⠀⠀⠙⢮⡻⣮⡳⣄⠀⠀⠀⠀\n",
       "⠀⠀⠀⠀⠀⠀⠀⠀⠀⠀⠀⠀⠀⠀⠀⠀⠀⠀⠀⠀⠀⠀⠀⠀⠀⠀⠀⠀⠀⠀⠀⠀⠙⢮⡻⣮⡳⣄⠀⠀\n",
       "⠀⠀⠀⠀⠀⠀⠀⠀⠀⠀⠀⠀⠀⠀⠀⠀⠀⠀⠀⠀⠀⠀⠀⠀⠀⠀⠀⠀⠀⠀⠀⠀⠀⠀⠙⢮⡻⣮⡳⣄\n",
       "⠀⠀⠀⠀⠀⠀⠀⠀⠀⠀⠀⠀⠀⠀⠀⠀⠀⠀⠀⠀⠀⠀⠀⠀⠀⠀⠀⠀⠀⠀⠀⠀⠀⠀⠀⠀⠙⢮⡻⣮"
      ]
     },
     "execution_count": 4,
     "metadata": {},
     "output_type": "execute_result"
    }
   ],
   "source": [
    "using Gridap, LinearAlgebra, MatrixMarket\n",
    "Pi=3.14159\n",
    "domain = (0,Pi,0,Pi/2)\n",
    "partition = (24,24)\n",
    "model = CartesianDiscreteModel(domain,partition)\n",
    "\n",
    "order = 1\n",
    "reffe = ReferenceFE(lagrangian,Float64,order)\n",
    "V0 = TestFESpace(model,reffe;conformity=:H1,dirichlet_tags=\"boundary\")\n",
    "U = TrialFESpace(V0, 0)\n",
    "\n",
    "degree = 2\n",
    "Ω = Triangulation(model)\n",
    "dΩ = Measure(Ω,degree)\n",
    "f(x) = 0\n",
    "a(u,v) = ∫( ∇(v)⊙∇(u) )*dΩ\n",
    "b(v) = ∫( v*f )*dΩ\n",
    "op = AffineFEOperator(a,b,U,V0)\n",
    "A = get_matrix(op)\n",
    "\n",
    "m(u,v) = ∫(v*u)*dΩ\n",
    "mop = AffineFEOperator(m,b,U,V0)\n",
    "M = get_matrix(mop)"
   ]
  },
  {
   "cell_type": "code",
   "execution_count": 11,
   "metadata": {},
   "outputs": [],
   "source": [
    "using MatrixMarket\n",
    "MatrixMarket.mmwrite(\"A.mtx\",A)\n",
    "MatrixMarket.mmwrite(\"M.mtx\",M)"
   ]
  },
  {
   "cell_type": "code",
   "execution_count": 12,
   "metadata": {},
   "outputs": [
    {
     "name": "stderr",
     "output_type": "stream",
     "text": [
      "\u001b[32m\u001b[1m   Resolving\u001b[22m\u001b[39m package versions...\n",
      "\u001b[32m\u001b[1m   Installed\u001b[22m\u001b[39m WriteVTK ─ v1.12.0\n",
      "\u001b[32m\u001b[1m    Updating\u001b[22m\u001b[39m `C:\\Users\\AllanStruthers\\Desktop\\Classes\\4620\\GRIDAP\\GRIDAP\\Tutorials\\Project.toml`\n",
      " \u001b[90m [64499a7a] \u001b[39m\u001b[92m+ WriteVTK v1.12.0\u001b[39m\n",
      "\u001b[32m\u001b[1m    Updating\u001b[22m\u001b[39m `C:\\Users\\AllanStruthers\\Desktop\\Classes\\4620\\GRIDAP\\GRIDAP\\Tutorials\\Manifest.toml`\n",
      " \u001b[90m [64499a7a] \u001b[39m\u001b[93m↑ WriteVTK v1.11.0 ⇒ v1.12.0\u001b[39m\n",
      "\u001b[32m\u001b[1mPrecompiling\u001b[22m\u001b[39m project...\n",
      "\u001b[33m  ✓ \u001b[39mWriteVTK\n",
      "\u001b[33m  ✓ \u001b[39mGridap\n",
      "\u001b[32m  ✓ \u001b[39mGridapGmsh\n",
      "\u001b[32m  ✓ \u001b[39mTutorials\n",
      "  4 dependencies successfully precompiled in 23 seconds (170 already precompiled)\n",
      "  \u001b[33m2\u001b[39m dependencies precompiled but different versions are currently loaded. Restart julia to access the new versions\n"
     ]
    }
   ],
   "source": [
    "import Pkg; Pkg.add(\"WriteVTK\")"
   ]
  },
  {
   "cell_type": "code",
   "execution_count": 13,
   "metadata": {},
   "outputs": [
    {
     "ename": "LoadError",
     "evalue": "MethodError: no method matching vtk_grid(::String, ::CartesianDiscreteModel{2, Float64, typeof(identity)})\n\u001b[0mClosest candidates are:\n\u001b[0m  vtk_grid(::Any, \u001b[91m::Tuple{Vararg{T, N}} where {N, T}\u001b[39m; kwargs...) at C:\\Users\\AllanStruthers\\.julia\\packages\\WriteVTK\\tUyj2\\src\\gridtypes\\common.jl:45\n\u001b[0m  vtk_grid(\u001b[91m::Function\u001b[39m, ::Any...; kwargs...) at C:\\Users\\AllanStruthers\\.julia\\packages\\WriteVTK\\tUyj2\\src\\WriteVTK.jl:168\n\u001b[0m  vtk_grid(::AbstractString, \u001b[91m::AbstractRange{T}...\u001b[39m; kwargs...) where T at C:\\Users\\AllanStruthers\\.julia\\packages\\WriteVTK\\tUyj2\\src\\gridtypes\\structured\\imagedata.jl:85\n\u001b[0m  ...",
     "output_type": "error",
     "traceback": [
      "MethodError: no method matching vtk_grid(::String, ::CartesianDiscreteModel{2, Float64, typeof(identity)})\n\u001b[0mClosest candidates are:\n\u001b[0m  vtk_grid(::Any, \u001b[91m::Tuple{Vararg{T, N}} where {N, T}\u001b[39m; kwargs...) at C:\\Users\\AllanStruthers\\.julia\\packages\\WriteVTK\\tUyj2\\src\\gridtypes\\common.jl:45\n\u001b[0m  vtk_grid(\u001b[91m::Function\u001b[39m, ::Any...; kwargs...) at C:\\Users\\AllanStruthers\\.julia\\packages\\WriteVTK\\tUyj2\\src\\WriteVTK.jl:168\n\u001b[0m  vtk_grid(::AbstractString, \u001b[91m::AbstractRange{T}...\u001b[39m; kwargs...) where T at C:\\Users\\AllanStruthers\\.julia\\packages\\WriteVTK\\tUyj2\\src\\gridtypes\\structured\\imagedata.jl:85\n\u001b[0m  ...",
      "",
      "Stacktrace:",
      " [1] top-level scope",
      "   @ In[13]:2",
      " [2] eval",
      "   @ .\\boot.jl:360 [inlined]",
      " [3] include_string(mapexpr::typeof(REPL.softscope), mod::Module, code::String, filename::String)",
      "   @ Base .\\loading.jl:1116"
     ]
    }
   ],
   "source": [
    "using WriteVTK\n",
    "vtk = vtk_grid(\"test_grid\", model)\n",
    "vtk_point_data(vtk, ch)\n",
    "vtk_save(vtk) "
   ]
  },
  {
   "cell_type": "code",
   "execution_count": null,
   "metadata": {},
   "outputs": [],
   "source": []
  }
 ],
 "metadata": {
  "kernelspec": {
   "display_name": "Julia 1.6.3",
   "language": "julia",
   "name": "julia-1.6"
  },
  "language_info": {
   "file_extension": ".jl",
   "mimetype": "application/julia",
   "name": "julia",
   "version": "1.6.3"
  }
 },
 "nbformat": 4,
 "nbformat_minor": 4
}
