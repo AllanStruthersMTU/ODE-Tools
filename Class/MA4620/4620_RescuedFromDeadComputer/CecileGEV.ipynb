{
 "cells": [
  {
   "cell_type": "code",
   "execution_count": 17,
   "id": "2a932638-0d8b-43c3-8bdf-9a98bbeb73ea",
   "metadata": {},
   "outputs": [
    {
     "name": "stdout",
     "output_type": "stream",
     "text": [
      "  1.072966 seconds (21 allocations: 13.950 MiB)\n"
     ]
    },
    {
     "data": {
      "text/plain": [
       "4.633328325690677e-11"
      ]
     },
     "execution_count": 17,
     "metadata": {},
     "output_type": "execute_result"
    }
   ],
   "source": [
    "using LinearAlgebra\n",
    "n=600;\n",
    "A= randn(n,n); B= randn(n,n);\n",
    "@time EigenStuff = eigen(A,B);\n",
    "vS=EigenStuff.vectors;\n",
    "lambdaS = EigenStuff.values;\n",
    "norm(A*vS - B*vS*diagm(lambdaS))"
   ]
  },
  {
   "cell_type": "code",
   "execution_count": 18,
   "id": "bea87883-1482-4648-8a7f-74bfacc69061",
   "metadata": {},
   "outputs": [
    {
     "ename": "LoadError",
     "evalue": "MethodError: no method matching eigen!(::Matrix{Float64}, ::Symmetric{Float64, Matrix{Float64}})\n\u001b[0mClosest candidates are:\n\u001b[0m  eigen!(::StridedMatrix{T}; permute, scale, sortby) where T<:Union{Float32, Float64} at C:\\buildbot\\worker\\package_win64\\build\\usr\\share\\julia\\stdlib\\v1.6\\LinearAlgebra\\src\\eigen.jl:148\n\u001b[0m  eigen!(::StridedMatrix{T}, \u001b[91m::StridedMatrix{T}\u001b[39m; sortby) where T<:Union{Float32, Float64} at C:\\buildbot\\worker\\package_win64\\build\\usr\\share\\julia\\stdlib\\v1.6\\LinearAlgebra\\src\\eigen.jl:427\n\u001b[0m  eigen!(\u001b[91m::Union{Hermitian{T, S}, Symmetric{T, S}}\u001b[39m, ::Union{Hermitian{T, S}, Symmetric{T, S}}; sortby) where {T<:Union{Float32, Float64}, S<:(StridedMatrix{T} where T)} at C:\\buildbot\\worker\\package_win64\\build\\usr\\share\\julia\\stdlib\\v1.6\\LinearAlgebra\\src\\symmetric.jl:827",
     "output_type": "error",
     "traceback": [
      "MethodError: no method matching eigen!(::Matrix{Float64}, ::Symmetric{Float64, Matrix{Float64}})\n\u001b[0mClosest candidates are:\n\u001b[0m  eigen!(::StridedMatrix{T}; permute, scale, sortby) where T<:Union{Float32, Float64} at C:\\buildbot\\worker\\package_win64\\build\\usr\\share\\julia\\stdlib\\v1.6\\LinearAlgebra\\src\\eigen.jl:148\n\u001b[0m  eigen!(::StridedMatrix{T}, \u001b[91m::StridedMatrix{T}\u001b[39m; sortby) where T<:Union{Float32, Float64} at C:\\buildbot\\worker\\package_win64\\build\\usr\\share\\julia\\stdlib\\v1.6\\LinearAlgebra\\src\\eigen.jl:427\n\u001b[0m  eigen!(\u001b[91m::Union{Hermitian{T, S}, Symmetric{T, S}}\u001b[39m, ::Union{Hermitian{T, S}, Symmetric{T, S}}; sortby) where {T<:Union{Float32, Float64}, S<:(StridedMatrix{T} where T)} at C:\\buildbot\\worker\\package_win64\\build\\usr\\share\\julia\\stdlib\\v1.6\\LinearAlgebra\\src\\symmetric.jl:827",
      "",
      "Stacktrace:",
      " [1] eigen(A::Matrix{Float64}, B::Symmetric{Float64, Matrix{Float64}}; kws::Base.Iterators.Pairs{Union{}, Union{}, Tuple{}, NamedTuple{(), Tuple{}}})",
      "   @ LinearAlgebra C:\\buildbot\\worker\\package_win64\\build\\usr\\share\\julia\\stdlib\\v1.6\\LinearAlgebra\\src\\eigen.jl:501",
      " [2] eigen(A::Matrix{Float64}, B::Symmetric{Float64, Matrix{Float64}})",
      "   @ LinearAlgebra C:\\buildbot\\worker\\package_win64\\build\\usr\\share\\julia\\stdlib\\v1.6\\LinearAlgebra\\src\\eigen.jl:500",
      " [3] top-level scope",
      "   @ .\\timing.jl:210 [inlined]",
      " [4] top-level scope",
      "   @ .\\In[18]:0",
      " [5] eval",
      "   @ .\\boot.jl:360 [inlined]",
      " [6] include_string(mapexpr::typeof(REPL.softscope), mod::Module, code::String, filename::String)",
      "   @ Base .\\loading.jl:1116"
     ]
    }
   ],
   "source": [
    "using LinearAlgebra\n",
    "n=600;\n",
    "A= randn(n,n); B= randn(n,n);B=Symmetric(B*B')\n",
    "@time EigenStuff = eigen(A,B);\n",
    "vS=EigenStuff.vectors;\n",
    "lambdaS = EigenStuff.values;\n",
    "norm(A*vS - B*vS*diagm(lambdaS))"
   ]
  },
  {
   "cell_type": "code",
   "execution_count": 20,
   "id": "bbca6b44-4931-4351-950c-adcee46f9d6e",
   "metadata": {},
   "outputs": [
    {
     "ename": "LoadError",
     "evalue": "PosDefException: matrix is not positive definite; Cholesky factorization failed.",
     "output_type": "error",
     "traceback": [
      "PosDefException: matrix is not positive definite; Cholesky factorization failed.",
      "",
      "Stacktrace:",
      "  [1] chkposdef",
      "    @ C:\\buildbot\\worker\\package_win64\\build\\usr\\share\\julia\\stdlib\\v1.6\\LinearAlgebra\\src\\lapack.jl:50 [inlined]",
      "  [2] sygvd!(itype::Int64, jobz::Char, uplo::Char, A::Matrix{Float64}, B::Matrix{Float64})",
      "    @ LinearAlgebra.LAPACK C:\\buildbot\\worker\\package_win64\\build\\usr\\share\\julia\\stdlib\\v1.6\\LinearAlgebra\\src\\lapack.jl:5175",
      "  [3] #eigen!#101",
      "    @ C:\\buildbot\\worker\\package_win64\\build\\usr\\share\\julia\\stdlib\\v1.6\\LinearAlgebra\\src\\symmetric.jl:828 [inlined]",
      "  [4] eigen!",
      "    @ C:\\buildbot\\worker\\package_win64\\build\\usr\\share\\julia\\stdlib\\v1.6\\LinearAlgebra\\src\\symmetric.jl:828 [inlined]",
      "  [5] eigen(A::Symmetric{Float64, Matrix{Float64}}, B::Symmetric{Float64, Matrix{Float64}}; kws::Base.Iterators.Pairs{Union{}, Union{}, Tuple{}, NamedTuple{(), Tuple{}}})",
      "    @ LinearAlgebra C:\\buildbot\\worker\\package_win64\\build\\usr\\share\\julia\\stdlib\\v1.6\\LinearAlgebra\\src\\eigen.jl:501",
      "  [6] eigen(A::Symmetric{Float64, Matrix{Float64}}, B::Symmetric{Float64, Matrix{Float64}})",
      "    @ LinearAlgebra C:\\buildbot\\worker\\package_win64\\build\\usr\\share\\julia\\stdlib\\v1.6\\LinearAlgebra\\src\\eigen.jl:500",
      "  [7] top-level scope",
      "    @ .\\timing.jl:210 [inlined]",
      "  [8] top-level scope",
      "    @ .\\In[20]:0",
      "  [9] eval",
      "    @ .\\boot.jl:360 [inlined]",
      " [10] include_string(mapexpr::typeof(REPL.softscope), mod::Module, code::String, filename::String)",
      "    @ Base .\\loading.jl:1116"
     ]
    }
   ],
   "source": [
    "using LinearAlgebra\n",
    "n=600;\n",
    "A= Symmetric(randn(n,n)); B= Symmetric(randn(n,n))\n",
    "@time EigenStuff = eigen(A,B);\n",
    "vS=EigenStuff.vectors;\n",
    "lambdaS = EigenStuff.values;\n",
    "norm(A*vS - B*vS*diagm(lambdaS))"
   ]
  },
  {
   "cell_type": "code",
   "execution_count": 23,
   "id": "9893f32f-24b7-43d8-b698-1cebea17123f",
   "metadata": {},
   "outputs": [
    {
     "name": "stdout",
     "output_type": "stream",
     "text": [
      "  0.086352 seconds (12 allocations: 11.042 MiB)\n"
     ]
    },
    {
     "data": {
      "text/plain": [
       "1.1690458379486342e-7"
      ]
     },
     "execution_count": 23,
     "metadata": {},
     "output_type": "execute_result"
    }
   ],
   "source": [
    "using LinearAlgebra\n",
    "n=600;\n",
    "A= Symmetric(randn(n,n)); B=randn(n,n); B=Symmetric(B'*B)\n",
    "@time EigenStuff = eigen(A,B);\n",
    "vS=EigenStuff.vectors;\n",
    "lambdaS = EigenStuff.values;\n",
    "norm(A*vS - B*vS*diagm(lambdaS))"
   ]
  },
  {
   "cell_type": "code",
   "execution_count": 25,
   "id": "e250a79f-e6d1-4bf1-88c9-8df02d0f4ac2",
   "metadata": {},
   "outputs": [
    {
     "name": "stdout",
     "output_type": "stream",
     "text": [
      "  0.104246 seconds (12 allocations: 11.042 MiB, 7.86% gc time)\n"
     ]
    },
    {
     "data": {
      "text/plain": [
       "2.1372046098031477e-12"
      ]
     },
     "execution_count": 25,
     "metadata": {},
     "output_type": "execute_result"
    }
   ],
   "source": [
    "using LinearAlgebra\n",
    "n=600;\n",
    "A= Symmetric(randn(n,n)); B=randn(n,n); B=Symmetric(B'*B + 3*I)\n",
    "@time EigenStuff = eigen(A,B);\n",
    "vS=EigenStuff.vectors;\n",
    "lambdaS = EigenStuff.values;\n",
    "norm(A*vS - B*vS*diagm(lambdaS))"
   ]
  },
  {
   "cell_type": "code",
   "execution_count": null,
   "id": "3cdcfb98-0a9e-413b-b017-b1ce131cf34a",
   "metadata": {},
   "outputs": [],
   "source": []
  }
 ],
 "metadata": {
  "kernelspec": {
   "display_name": "Julia 1.6.3",
   "language": "julia",
   "name": "julia-1.6"
  },
  "language_info": {
   "file_extension": ".jl",
   "mimetype": "application/julia",
   "name": "julia",
   "version": "1.6.3"
  }
 },
 "nbformat": 4,
 "nbformat_minor": 5
}
